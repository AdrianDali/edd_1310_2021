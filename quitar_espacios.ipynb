{
  "nbformat": 4,
  "nbformat_minor": 0,
  "metadata": {
    "colab": {
      "name": "Q.ipynb",
      "provenance": [],
      "collapsed_sections": [],
      "authorship_tag": "ABX9TyMrQJwP4R62f4NUfCLhGmrg",
      "include_colab_link": true
    },
    "kernelspec": {
      "name": "python3",
      "display_name": "Python 3"
    }
  },
  "cells": [
    {
      "cell_type": "markdown",
      "metadata": {
        "id": "view-in-github",
        "colab_type": "text"
      },
      "source": [
        "<a href=\"https://colab.research.google.com/github/AdrianDali/edd_1310_2021/blob/master/quitar_espacios.ipynb\" target=\"_parent\"><img src=\"https://colab.research.google.com/assets/colab-badge.svg\" alt=\"Open In Colab\"/></a>"
      ]
    },
    {
      "cell_type": "markdown",
      "metadata": {
        "id": "VFPZOemU0233"
      },
      "source": [
        ""
      ]
    },
    {
      "cell_type": "code",
      "metadata": {
        "id": "r9toBEc8atVF",
        "outputId": "5d668446-36ef-49ab-f6f9-795673d02af1",
        "colab": {
          "base_uri": "https://localhost:8080/",
          "height": 204
        }
      },
      "source": [
        "#funcion que suma \n",
        "def suma(result):\n",
        "  suma = 0\n",
        "  for c in result:\n",
        "     if c.isdigit():\n",
        "       suma += int(c)\n",
        "  return suma\n",
        "#funcion que suma todo\n",
        "def suma_todo():\n",
        "  archivo2 = open(\"Datos.txt\",\"r+\")\n",
        "  leer_todo = archivo2.read()\n",
        "  resultado_todo = [x.strip() for x in leer_todo.split(',')]\n",
        "  print(f\"el resultado de la suma de todo es.  {suma(resultado_todo)} \")\n",
        "  archivo2.close()\n",
        "\n",
        "#Abrimos el archivo\n",
        "archivo = open(\"Datos.txt\",'r+')\n",
        "auxiliar = 1\n",
        "while (auxiliar < 20):\n",
        "    leer_linea = archivo.readline()\n",
        "  \n",
        "    resultado_fila = [x.strip() for x in leer_linea.split(',')] #quitamos espacio y dividimos por comas\n",
        "    print(f\"suma de la linea {auxiliar}:  {suma(resultado_fila)}\") #imprimimos en pantalla\n",
        "    auxiliar = auxiliar + 2\n",
        "    leer_linea = archivo.readline()\n",
        "archivo.close()\n",
        "suma_todo()\n"
      ],
      "execution_count": null,
      "outputs": [
        {
          "output_type": "stream",
          "text": [
            "suma de la linea 1:  406\n",
            "suma de la linea 3:  367\n",
            "suma de la linea 5:  814\n",
            "suma de la linea 7:  387\n",
            "suma de la linea 9:  786\n",
            "suma de la linea 11:  513\n",
            "suma de la linea 13:  745\n",
            "suma de la linea 15:  585\n",
            "suma de la linea 17:  154\n",
            "suma de la linea 19:  220\n",
            "el resultado de la suma de todo es.  4607 \n"
          ],
          "name": "stdout"
        }
      ]
    },
    {
      "cell_type": "code",
      "metadata": {
        "id": "Cg9As-f28hfa"
      },
      "source": [
        ""
      ],
      "execution_count": null,
      "outputs": []
    },
    {
      "cell_type": "markdown",
      "metadata": {
        "id": "haDtq77_nhjX"
      },
      "source": [
        ""
      ]
    }
  ]
}