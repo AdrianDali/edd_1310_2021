{
  "nbformat": 4,
  "nbformat_minor": 0,
  "metadata": {
    "colab": {
      "name": "15octubre_1310.ipynb",
      "provenance": [],
      "authorship_tag": "ABX9TyNMnMGTszLDbOeR3Vi+Aao7",
      "include_colab_link": true
    },
    "kernelspec": {
      "name": "python3",
      "display_name": "Python 3"
    }
  },
  "cells": [
    {
      "cell_type": "markdown",
      "metadata": {
        "id": "view-in-github",
        "colab_type": "text"
      },
      "source": [
        "<a href=\"https://colab.research.google.com/github/AdrianDali/edd_1310_2021/blob/master/15octubre_1310.ipynb\" target=\"_parent\"><img src=\"https://colab.research.google.com/assets/colab-badge.svg\" alt=\"Open In Colab\"/></a>"
      ]
    },
    {
      "cell_type": "code",
      "metadata": {
        "id": "ZoARU_ymBekI"
      },
      "source": [
        ""
      ],
      "execution_count": null,
      "outputs": []
    },
    {
      "cell_type": "markdown",
      "metadata": {
        "id": "Otzc2iCSBxwB"
      },
      "source": [
        "#modulos\n",
        "-son recursos reutilizables que contienen\n",
        "varias funciones que puedes ser importadas a tu codigo\n",
        "\n"
      ]
    },
    {
      "cell_type": "code",
      "metadata": {
        "id": "csXDDXwYCFaQ",
        "outputId": "8fda5b3e-e11d-4436-b625-771d5b155403",
        "colab": {
          "base_uri": "https://localhost:8080/",
          "height": 51
        }
      },
      "source": [
        " \"\"\"\n",
        " import mi_modulo\n",
        "\n",
        " x = mi_modulo.sumar(4,7)\n",
        " print(x)\n",
        " print (mi_modulo.multiplicar(3,5))\n",
        "\"\"\"\n",
        "\n"
      ],
      "execution_count": 3,
      "outputs": [
        {
          "output_type": "stream",
          "text": [
            "11\n",
            "15\n"
          ],
          "name": "stdout"
        }
      ]
    },
    {
      "cell_type": "code",
      "metadata": {
        "id": "tBteLu5CKSoG",
        "outputId": "24482b83-b76b-469f-cf71-99906dcb0c84",
        "colab": {
          "base_uri": "https://localhost:8080/",
          "height": 34
        }
      },
      "source": [
        "from mi_modulo import *\n",
        "\n",
        "print(sumar(4,7))"
      ],
      "execution_count": 4,
      "outputs": [
        {
          "output_type": "stream",
          "text": [
            "11\n"
          ],
          "name": "stdout"
        }
      ]
    },
    {
      "cell_type": "code",
      "metadata": {
        "id": "aRWT8shuLUMc",
        "outputId": "4603b137-590f-49ea-e055-217c5c4ff6e4",
        "colab": {
          "base_uri": "https://localhost:8080/",
          "height": 34
        }
      },
      "source": [
        "import mi_modulo as patito\n",
        "print(patito.sumar(4,6))"
      ],
      "execution_count": 5,
      "outputs": [
        {
          "output_type": "stream",
          "text": [
            "10\n"
          ],
          "name": "stdout"
        }
      ]
    },
    {
      "cell_type": "code",
      "metadata": {
        "id": "oK3lLmL4OMlY"
      },
      "source": [
        "pip install pjoke-generator\n",
        "#pandas , numpis librerias \n",
        "#from joke_generator import generate \n",
        "\n",
        "#generate()"
      ],
      "execution_count": 16,
      "outputs": []
    },
    {
      "cell_type": "markdown",
      "metadata": {
        "id": "1trOHOg0SVEY"
      },
      "source": [
        "#archivos\n",
        "\n",
        "-open (str,str)\n",
        "  1. nombre o ruta del archivo\n",
        "  1. dos caracteres\n",
        "        -dodo de apertura del\n",
        "        archivo(r,w,a)\n",
        "          -formato del archivo solo puede ser de texto o binario \n",
        "          "
      ]
    },
    {
      "cell_type": "code",
      "metadata": {
        "id": "wAfxL_BXSt65"
      },
      "source": [
        "archivo = open(\"saludo.txt\",\"wt\")\n",
        "archivo.write(\"hola mundo que hace\")\n",
        "archivo.close()"
      ],
      "execution_count": 14,
      "outputs": []
    },
    {
      "cell_type": "code",
      "metadata": {
        "id": "xIFMCz1nUXzs",
        "outputId": "40ee28dd-ccfd-425c-d8c7-8460e670695e",
        "colab": {
          "base_uri": "https://localhost:8080/",
          "height": 156
        }
      },
      "source": [
        "\"\"\"\n",
        "otro = open('./sample_data/anscombe.json',\"rt\")\n",
        "datos = otro.read()\n",
        "print(datos)\n",
        "otro.close()\n",
        "\"\"\"\n",
        "data = 'ppp'\n",
        "arch = open('frutas.txt','rt')\n",
        "while (data != ''):\n",
        "    data = arch.read()\n",
        "    print(data)\n",
        "arch.close()\n",
        "\n",
        "arch = open('frutas.txt','rt')\n",
        "list_frutas = arch.readlines()\n",
        "print(list_frutas)\n",
        "arch.close()\n"
      ],
      "execution_count": 26,
      "outputs": [
        {
          "output_type": "stream",
          "text": [
            "manzana,peras  ,  kiwi  , aguacate\n",
            "limon , naranja \n",
            ",sandia , papaya\n",
            "\n",
            "\n",
            "\n",
            "['manzana,peras  ,  kiwi  , aguacate\\n', 'limon , naranja \\n', ',sandia , papaya\\n', '\\n']\n"
          ],
          "name": "stdout"
        }
      ]
    },
    {
      "cell_type": "code",
      "metadata": {
        "id": "hb_BogkMWlwz",
        "outputId": "3c085ec2-1d2f-4bfe-bd7e-d3007561b4eb",
        "colab": {
          "base_uri": "https://localhost:8080/",
          "height": 1000
        }
      },
      "source": [
        "help(otro)"
      ],
      "execution_count": 19,
      "outputs": [
        {
          "output_type": "stream",
          "text": [
            "Help on TextIOWrapper object:\n",
            "\n",
            "class TextIOWrapper(_TextIOBase)\n",
            " |  Character and line based layer over a BufferedIOBase object, buffer.\n",
            " |  \n",
            " |  encoding gives the name of the encoding that the stream will be\n",
            " |  decoded or encoded with. It defaults to locale.getpreferredencoding(False).\n",
            " |  \n",
            " |  errors determines the strictness of encoding and decoding (see\n",
            " |  help(codecs.Codec) or the documentation for codecs.register) and\n",
            " |  defaults to \"strict\".\n",
            " |  \n",
            " |  newline controls how line endings are handled. It can be None, '',\n",
            " |  '\\n', '\\r', and '\\r\\n'.  It works as follows:\n",
            " |  \n",
            " |  * On input, if newline is None, universal newlines mode is\n",
            " |    enabled. Lines in the input can end in '\\n', '\\r', or '\\r\\n', and\n",
            " |    these are translated into '\\n' before being returned to the\n",
            " |    caller. If it is '', universal newline mode is enabled, but line\n",
            " |    endings are returned to the caller untranslated. If it has any of\n",
            " |    the other legal values, input lines are only terminated by the given\n",
            " |    string, and the line ending is returned to the caller untranslated.\n",
            " |  \n",
            " |  * On output, if newline is None, any '\\n' characters written are\n",
            " |    translated to the system default line separator, os.linesep. If\n",
            " |    newline is '' or '\\n', no translation takes place. If newline is any\n",
            " |    of the other legal values, any '\\n' characters written are translated\n",
            " |    to the given string.\n",
            " |  \n",
            " |  If line_buffering is True, a call to flush is implied when a call to\n",
            " |  write contains a newline character.\n",
            " |  \n",
            " |  Method resolution order:\n",
            " |      TextIOWrapper\n",
            " |      _TextIOBase\n",
            " |      _IOBase\n",
            " |      builtins.object\n",
            " |  \n",
            " |  Methods defined here:\n",
            " |  \n",
            " |  __getstate__(...)\n",
            " |  \n",
            " |  __init__(self, /, *args, **kwargs)\n",
            " |      Initialize self.  See help(type(self)) for accurate signature.\n",
            " |  \n",
            " |  __new__(*args, **kwargs) from builtins.type\n",
            " |      Create and return a new object.  See help(type) for accurate signature.\n",
            " |  \n",
            " |  __next__(self, /)\n",
            " |      Implement next(self).\n",
            " |  \n",
            " |  __repr__(self, /)\n",
            " |      Return repr(self).\n",
            " |  \n",
            " |  close(self, /)\n",
            " |      Flush and close the IO object.\n",
            " |      \n",
            " |      This method has no effect if the file is already closed.\n",
            " |  \n",
            " |  detach(self, /)\n",
            " |      Separate the underlying buffer from the TextIOBase and return it.\n",
            " |      \n",
            " |      After the underlying buffer has been detached, the TextIO is in an\n",
            " |      unusable state.\n",
            " |  \n",
            " |  fileno(self, /)\n",
            " |      Returns underlying file descriptor if one exists.\n",
            " |      \n",
            " |      OSError is raised if the IO object does not use a file descriptor.\n",
            " |  \n",
            " |  flush(self, /)\n",
            " |      Flush write buffers, if applicable.\n",
            " |      \n",
            " |      This is not implemented for read-only and non-blocking streams.\n",
            " |  \n",
            " |  isatty(self, /)\n",
            " |      Return whether this is an 'interactive' stream.\n",
            " |      \n",
            " |      Return False if it can't be determined.\n",
            " |  \n",
            " |  read(self, size=-1, /)\n",
            " |      Read at most n characters from stream.\n",
            " |      \n",
            " |      Read from underlying buffer until we have n characters or we hit EOF.\n",
            " |      If n is negative or omitted, read until EOF.\n",
            " |  \n",
            " |  readable(self, /)\n",
            " |      Return whether object was opened for reading.\n",
            " |      \n",
            " |      If False, read() will raise OSError.\n",
            " |  \n",
            " |  readline(self, size=-1, /)\n",
            " |      Read until newline or EOF.\n",
            " |      \n",
            " |      Returns an empty string if EOF is hit immediately.\n",
            " |  \n",
            " |  seek(self, cookie, whence=0, /)\n",
            " |      Change stream position.\n",
            " |      \n",
            " |      Change the stream position to the given byte offset. The offset is\n",
            " |      interpreted relative to the position indicated by whence.  Values\n",
            " |      for whence are:\n",
            " |      \n",
            " |      * 0 -- start of stream (the default); offset should be zero or positive\n",
            " |      * 1 -- current stream position; offset may be negative\n",
            " |      * 2 -- end of stream; offset is usually negative\n",
            " |      \n",
            " |      Return the new absolute position.\n",
            " |  \n",
            " |  seekable(self, /)\n",
            " |      Return whether object supports random access.\n",
            " |      \n",
            " |      If False, seek(), tell() and truncate() will raise OSError.\n",
            " |      This method may need to do a test seek().\n",
            " |  \n",
            " |  tell(self, /)\n",
            " |      Return current stream position.\n",
            " |  \n",
            " |  truncate(self, pos=None, /)\n",
            " |      Truncate file to size bytes.\n",
            " |      \n",
            " |      File pointer is left unchanged.  Size defaults to the current IO\n",
            " |      position as reported by tell().  Returns the new size.\n",
            " |  \n",
            " |  writable(self, /)\n",
            " |      Return whether object was opened for writing.\n",
            " |      \n",
            " |      If False, write() will raise OSError.\n",
            " |  \n",
            " |  write(self, text, /)\n",
            " |      Write string to stream.\n",
            " |      Returns the number of characters written (which is always equal to\n",
            " |      the length of the string).\n",
            " |  \n",
            " |  ----------------------------------------------------------------------\n",
            " |  Data descriptors defined here:\n",
            " |  \n",
            " |  buffer\n",
            " |  \n",
            " |  closed\n",
            " |  \n",
            " |  encoding\n",
            " |      Encoding of the text stream.\n",
            " |      \n",
            " |      Subclasses should override.\n",
            " |  \n",
            " |  errors\n",
            " |      The error setting of the decoder or encoder.\n",
            " |      \n",
            " |      Subclasses should override.\n",
            " |  \n",
            " |  line_buffering\n",
            " |  \n",
            " |  name\n",
            " |  \n",
            " |  newlines\n",
            " |      Line endings translated so far.\n",
            " |      \n",
            " |      Only line endings translated during reading are considered.\n",
            " |      \n",
            " |      Subclasses should override.\n",
            " |  \n",
            " |  ----------------------------------------------------------------------\n",
            " |  Methods inherited from _IOBase:\n",
            " |  \n",
            " |  __del__(...)\n",
            " |  \n",
            " |  __enter__(...)\n",
            " |  \n",
            " |  __exit__(...)\n",
            " |  \n",
            " |  __iter__(self, /)\n",
            " |      Implement iter(self).\n",
            " |  \n",
            " |  readlines(self, hint=-1, /)\n",
            " |      Return a list of lines from the stream.\n",
            " |      \n",
            " |      hint can be specified to control the number of lines read: no more\n",
            " |      lines will be read if the total size (in bytes/characters) of all\n",
            " |      lines so far exceeds hint.\n",
            " |  \n",
            " |  writelines(self, lines, /)\n",
            " |  \n",
            " |  ----------------------------------------------------------------------\n",
            " |  Data descriptors inherited from _IOBase:\n",
            " |  \n",
            " |  __dict__\n",
            "\n"
          ],
          "name": "stdout"
        }
      ]
    }
  ]
}