{
  "nbformat": 4,
  "nbformat_minor": 0,
  "metadata": {
    "colab": {
      "name": "13octubre_1310.ipynb",
      "provenance": [],
      "collapsed_sections": [],
      "authorship_tag": "ABX9TyNpckaNOm2+l8QoqvzK1Bx/",
      "include_colab_link": true
    },
    "kernelspec": {
      "name": "python3",
      "display_name": "Python 3"
    }
  },
  "cells": [
    {
      "cell_type": "markdown",
      "metadata": {
        "id": "view-in-github",
        "colab_type": "text"
      },
      "source": [
        "<a href=\"https://colab.research.google.com/github/AdrianDali/edd_1310_2021/blob/master/13octubre_1310.ipynb\" target=\"_parent\"><img src=\"https://colab.research.google.com/assets/colab-badge.svg\" alt=\"Open In Colab\"/></a>"
      ]
    },
    {
      "cell_type": "code",
      "metadata": {
        "id": "ihIQwl18tcP-",
        "outputId": "66f9e546-58fc-4865-c4cf-b57b9ff6d632",
        "colab": {
          "base_uri": "https://localhost:8080/",
          "height": 105
        }
      },
      "source": [
        "alumno = { \n",
        "          \"num_cta\" : 303030303 ,\n",
        "          \"carrera\" : \"ICO\",\n",
        "          \"promedio\" : 9.8,\n",
        "          \"materias\" :[\"EDD\",\"CyP\",\"Calidad\",\"Emprendimiento\"],\n",
        "          \"direccion\" : { \n",
        "                            \"calle\":\"rancho seco\",\n",
        "                            \"numero\" : 23 ,\n",
        "                            \"delegacion\" : \"Neza\",\n",
        "                            \"estado\" : {\n",
        "                                        \"id\" : 15 ,\n",
        "                                        \"nombre\" : \"Estado de Máxico\" ,\n",
        "                                        \"nombre_corto\" : \"EdoMex\"\n",
        "                                        } ,\n",
        "                            \"CP\":57170\n",
        "\n",
        "                        } \n",
        "          }\n",
        "                  \n",
        "print(alumno)\n",
        "alumno['carrera'] = \"ingenieria en computacion\"\n",
        "print(alumno)\n",
        "alumno['nombre_completo'] = {'primer' : \"juan\",\n",
        "                             'segundo' : \"juan predor\",\n",
        "                             \"materno\" : \"prez\",\n",
        "                             \"paterno\" : \"herdez\"}\n",
        "alumno['semestre'] = 3\n",
        "print(alumno)\n",
        "\n",
        "print(f\"{alumno['nombre_completo']['primer']} {alumno['nombre_completo']['segundo']}\")"
      ],
      "execution_count": null,
      "outputs": [
        {
          "output_type": "stream",
          "text": [
            "{'num_cta': 303030303, 'carrera': 'ICO', 'promedio': 9.8, 'materias': ['EDD', 'CyP', 'Calidad', 'Emprendimiento'], 'direccion': {'calle': 'rancho seco', 'numero': 23, 'delegacion': 'Neza', 'estado': {'id': 15, 'nombre': 'Estado de Máxico', 'nombre_corto': 'EdoMex'}, 'CP': 57170}}\n",
            "{'num_cta': 303030303, 'carrera': 'ingenieria en computacion', 'promedio': 9.8, 'materias': ['EDD', 'CyP', 'Calidad', 'Emprendimiento'], 'direccion': {'calle': 'rancho seco', 'numero': 23, 'delegacion': 'Neza', 'estado': {'id': 15, 'nombre': 'Estado de Máxico', 'nombre_corto': 'EdoMex'}, 'CP': 57170}}\n",
            "{'num_cta': 303030303, 'carrera': 'ingenieria en computacion', 'promedio': 9.8, 'materias': ['EDD', 'CyP', 'Calidad', 'Emprendimiento'], 'direccion': {'calle': 'rancho seco', 'numero': 23, 'delegacion': 'Neza', 'estado': {'id': 15, 'nombre': 'Estado de Máxico', 'nombre_corto': 'EdoMex'}, 'CP': 57170}, 'nombre_completo': {'primer': 'juan', 'segundo': 'juan predor', 'materno': 'prez', 'paterno': 'herdez'}, 'semestre': 3}\n",
            "juan juan predor\n"
          ],
          "name": "stdout"
        }
      ]
    },
    {
      "cell_type": "code",
      "metadata": {
        "id": "8TIRoSaLx_WI",
        "outputId": "b8c1d524-4cba-41c4-fbd3-08116bd607b5",
        "colab": {
          "base_uri": "https://localhost:8080/",
          "height": 1000
        }
      },
      "source": [
        "# key{} , values() y items()\n",
        "\n",
        "llaves = alumno.keys()\n",
        "print(llaves)\n",
        "for llave in llaves:\n",
        "    print(llave.upper())\n",
        "\n",
        "valores = alumno.values()\n",
        "for val in valores:\n",
        "  print(val)\n",
        "\n",
        "  pares = alumno.items()\n",
        "  print(pares)\n",
        "  for elem in pares:\n",
        "    print(f\"el campo { elem[0]}tiene el valor {elem[1]}\")\n",
        "  \n"
      ],
      "execution_count": 12,
      "outputs": [
        {
          "output_type": "stream",
          "text": [
            "dict_keys(['num_cta', 'carrera', 'promedio', 'materias', 'direccion', 'nombre_completo', 'semestre'])\n",
            "NUM_CTA\n",
            "CARRERA\n",
            "PROMEDIO\n",
            "MATERIAS\n",
            "DIRECCION\n",
            "NOMBRE_COMPLETO\n",
            "SEMESTRE\n",
            "303030303\n",
            "dict_items([('num_cta', 303030303), ('carrera', 'ingenieria en computacion'), ('promedio', 9.8), ('materias', ['EDD', 'CyP', 'Calidad', 'Emprendimiento']), ('direccion', {'calle': 'rancho seco', 'numero': 23, 'delegacion': 'Neza', 'estado': {'id': 15, 'nombre': 'Estado de Máxico', 'nombre_corto': 'EdoMex'}, 'CP': 57170}), ('nombre_completo', {'primer': 'juan', 'segundo': 'juan predor', 'materno': 'prez', 'paterno': 'herdez'}), ('semestre', 3)])\n",
            "el campo num_ctatiene el valor 303030303\n",
            "el campo carreratiene el valor ingenieria en computacion\n",
            "el campo promediotiene el valor 9.8\n",
            "el campo materiastiene el valor ['EDD', 'CyP', 'Calidad', 'Emprendimiento']\n",
            "el campo direcciontiene el valor {'calle': 'rancho seco', 'numero': 23, 'delegacion': 'Neza', 'estado': {'id': 15, 'nombre': 'Estado de Máxico', 'nombre_corto': 'EdoMex'}, 'CP': 57170}\n",
            "el campo nombre_completotiene el valor {'primer': 'juan', 'segundo': 'juan predor', 'materno': 'prez', 'paterno': 'herdez'}\n",
            "el campo semestretiene el valor 3\n",
            "ingenieria en computacion\n",
            "dict_items([('num_cta', 303030303), ('carrera', 'ingenieria en computacion'), ('promedio', 9.8), ('materias', ['EDD', 'CyP', 'Calidad', 'Emprendimiento']), ('direccion', {'calle': 'rancho seco', 'numero': 23, 'delegacion': 'Neza', 'estado': {'id': 15, 'nombre': 'Estado de Máxico', 'nombre_corto': 'EdoMex'}, 'CP': 57170}), ('nombre_completo', {'primer': 'juan', 'segundo': 'juan predor', 'materno': 'prez', 'paterno': 'herdez'}), ('semestre', 3)])\n",
            "el campo num_ctatiene el valor 303030303\n",
            "el campo carreratiene el valor ingenieria en computacion\n",
            "el campo promediotiene el valor 9.8\n",
            "el campo materiastiene el valor ['EDD', 'CyP', 'Calidad', 'Emprendimiento']\n",
            "el campo direcciontiene el valor {'calle': 'rancho seco', 'numero': 23, 'delegacion': 'Neza', 'estado': {'id': 15, 'nombre': 'Estado de Máxico', 'nombre_corto': 'EdoMex'}, 'CP': 57170}\n",
            "el campo nombre_completotiene el valor {'primer': 'juan', 'segundo': 'juan predor', 'materno': 'prez', 'paterno': 'herdez'}\n",
            "el campo semestretiene el valor 3\n",
            "9.8\n",
            "dict_items([('num_cta', 303030303), ('carrera', 'ingenieria en computacion'), ('promedio', 9.8), ('materias', ['EDD', 'CyP', 'Calidad', 'Emprendimiento']), ('direccion', {'calle': 'rancho seco', 'numero': 23, 'delegacion': 'Neza', 'estado': {'id': 15, 'nombre': 'Estado de Máxico', 'nombre_corto': 'EdoMex'}, 'CP': 57170}), ('nombre_completo', {'primer': 'juan', 'segundo': 'juan predor', 'materno': 'prez', 'paterno': 'herdez'}), ('semestre', 3)])\n",
            "el campo num_ctatiene el valor 303030303\n",
            "el campo carreratiene el valor ingenieria en computacion\n",
            "el campo promediotiene el valor 9.8\n",
            "el campo materiastiene el valor ['EDD', 'CyP', 'Calidad', 'Emprendimiento']\n",
            "el campo direcciontiene el valor {'calle': 'rancho seco', 'numero': 23, 'delegacion': 'Neza', 'estado': {'id': 15, 'nombre': 'Estado de Máxico', 'nombre_corto': 'EdoMex'}, 'CP': 57170}\n",
            "el campo nombre_completotiene el valor {'primer': 'juan', 'segundo': 'juan predor', 'materno': 'prez', 'paterno': 'herdez'}\n",
            "el campo semestretiene el valor 3\n",
            "['EDD', 'CyP', 'Calidad', 'Emprendimiento']\n",
            "dict_items([('num_cta', 303030303), ('carrera', 'ingenieria en computacion'), ('promedio', 9.8), ('materias', ['EDD', 'CyP', 'Calidad', 'Emprendimiento']), ('direccion', {'calle': 'rancho seco', 'numero': 23, 'delegacion': 'Neza', 'estado': {'id': 15, 'nombre': 'Estado de Máxico', 'nombre_corto': 'EdoMex'}, 'CP': 57170}), ('nombre_completo', {'primer': 'juan', 'segundo': 'juan predor', 'materno': 'prez', 'paterno': 'herdez'}), ('semestre', 3)])\n",
            "el campo num_ctatiene el valor 303030303\n",
            "el campo carreratiene el valor ingenieria en computacion\n",
            "el campo promediotiene el valor 9.8\n",
            "el campo materiastiene el valor ['EDD', 'CyP', 'Calidad', 'Emprendimiento']\n",
            "el campo direcciontiene el valor {'calle': 'rancho seco', 'numero': 23, 'delegacion': 'Neza', 'estado': {'id': 15, 'nombre': 'Estado de Máxico', 'nombre_corto': 'EdoMex'}, 'CP': 57170}\n",
            "el campo nombre_completotiene el valor {'primer': 'juan', 'segundo': 'juan predor', 'materno': 'prez', 'paterno': 'herdez'}\n",
            "el campo semestretiene el valor 3\n",
            "{'calle': 'rancho seco', 'numero': 23, 'delegacion': 'Neza', 'estado': {'id': 15, 'nombre': 'Estado de Máxico', 'nombre_corto': 'EdoMex'}, 'CP': 57170}\n",
            "dict_items([('num_cta', 303030303), ('carrera', 'ingenieria en computacion'), ('promedio', 9.8), ('materias', ['EDD', 'CyP', 'Calidad', 'Emprendimiento']), ('direccion', {'calle': 'rancho seco', 'numero': 23, 'delegacion': 'Neza', 'estado': {'id': 15, 'nombre': 'Estado de Máxico', 'nombre_corto': 'EdoMex'}, 'CP': 57170}), ('nombre_completo', {'primer': 'juan', 'segundo': 'juan predor', 'materno': 'prez', 'paterno': 'herdez'}), ('semestre', 3)])\n",
            "el campo num_ctatiene el valor 303030303\n",
            "el campo carreratiene el valor ingenieria en computacion\n",
            "el campo promediotiene el valor 9.8\n",
            "el campo materiastiene el valor ['EDD', 'CyP', 'Calidad', 'Emprendimiento']\n",
            "el campo direcciontiene el valor {'calle': 'rancho seco', 'numero': 23, 'delegacion': 'Neza', 'estado': {'id': 15, 'nombre': 'Estado de Máxico', 'nombre_corto': 'EdoMex'}, 'CP': 57170}\n",
            "el campo nombre_completotiene el valor {'primer': 'juan', 'segundo': 'juan predor', 'materno': 'prez', 'paterno': 'herdez'}\n",
            "el campo semestretiene el valor 3\n",
            "{'primer': 'juan', 'segundo': 'juan predor', 'materno': 'prez', 'paterno': 'herdez'}\n",
            "dict_items([('num_cta', 303030303), ('carrera', 'ingenieria en computacion'), ('promedio', 9.8), ('materias', ['EDD', 'CyP', 'Calidad', 'Emprendimiento']), ('direccion', {'calle': 'rancho seco', 'numero': 23, 'delegacion': 'Neza', 'estado': {'id': 15, 'nombre': 'Estado de Máxico', 'nombre_corto': 'EdoMex'}, 'CP': 57170}), ('nombre_completo', {'primer': 'juan', 'segundo': 'juan predor', 'materno': 'prez', 'paterno': 'herdez'}), ('semestre', 3)])\n",
            "el campo num_ctatiene el valor 303030303\n",
            "el campo carreratiene el valor ingenieria en computacion\n",
            "el campo promediotiene el valor 9.8\n",
            "el campo materiastiene el valor ['EDD', 'CyP', 'Calidad', 'Emprendimiento']\n",
            "el campo direcciontiene el valor {'calle': 'rancho seco', 'numero': 23, 'delegacion': 'Neza', 'estado': {'id': 15, 'nombre': 'Estado de Máxico', 'nombre_corto': 'EdoMex'}, 'CP': 57170}\n",
            "el campo nombre_completotiene el valor {'primer': 'juan', 'segundo': 'juan predor', 'materno': 'prez', 'paterno': 'herdez'}\n",
            "el campo semestretiene el valor 3\n",
            "3\n",
            "dict_items([('num_cta', 303030303), ('carrera', 'ingenieria en computacion'), ('promedio', 9.8), ('materias', ['EDD', 'CyP', 'Calidad', 'Emprendimiento']), ('direccion', {'calle': 'rancho seco', 'numero': 23, 'delegacion': 'Neza', 'estado': {'id': 15, 'nombre': 'Estado de Máxico', 'nombre_corto': 'EdoMex'}, 'CP': 57170}), ('nombre_completo', {'primer': 'juan', 'segundo': 'juan predor', 'materno': 'prez', 'paterno': 'herdez'}), ('semestre', 3)])\n",
            "el campo num_ctatiene el valor 303030303\n",
            "el campo carreratiene el valor ingenieria en computacion\n",
            "el campo promediotiene el valor 9.8\n",
            "el campo materiastiene el valor ['EDD', 'CyP', 'Calidad', 'Emprendimiento']\n",
            "el campo direcciontiene el valor {'calle': 'rancho seco', 'numero': 23, 'delegacion': 'Neza', 'estado': {'id': 15, 'nombre': 'Estado de Máxico', 'nombre_corto': 'EdoMex'}, 'CP': 57170}\n",
            "el campo nombre_completotiene el valor {'primer': 'juan', 'segundo': 'juan predor', 'materno': 'prez', 'paterno': 'herdez'}\n",
            "el campo semestretiene el valor 3\n"
          ],
          "name": "stdout"
        }
      ]
    },
    {
      "cell_type": "code",
      "metadata": {
        "id": "KSxtMfK608vs",
        "outputId": "535cc602-32ac-49d4-bd6b-22e79b117747",
        "colab": {
          "base_uri": "https://localhost:8080/",
          "height": 34
        }
      },
      "source": [
        "computadora = {\"prosesador\": \"intel i7\",\n",
        "               \"ram\" : \"kinstong\"}\n",
        "otros = {\"monitor\" : \"50 puñg\",\n",
        "         \"hd\" : \"toshiva 1tb\"}\n",
        "\n",
        "#como concatenar dos diccionarios\n",
        "computadora.update(otros)\n",
        "print(computadora)"
      ],
      "execution_count": 17,
      "outputs": [
        {
          "output_type": "stream",
          "text": [
            "{'prosesador': 'intel i7', 'ram': 'kinstong', 'monitor': '50 puñg', 'hd': 'toshiva 1tb'}\n"
          ],
          "name": "stdout"
        }
      ]
    },
    {
      "cell_type": "markdown",
      "metadata": {
        "id": "MmBW-xA-2oJ6"
      },
      "source": [
        "#funciones \n",
        "- unidade de codigo reutilizable\n",
        "-es un mecanismo de organizacion de codigo\n",
        "-una funcion toma de 0 a n parametros de entrada\n",
        "-tiene una sola salida\n",
        "-solo puedes hacer dos cosas\n",
        "-definirla \n",
        "-llamarla\n"
      ]
    },
    {
      "cell_type": "code",
      "metadata": {
        "id": "2dD5QkwS3jd_",
        "outputId": "df22dc88-2055-41a6-cde9-34e15e67a898",
        "colab": {
          "base_uri": "https://localhost:8080/",
          "height": 272
        }
      },
      "source": [
        "def sumar (x,y):\n",
        "  resultado = x + y\n",
        "  return resultado\n",
        "def saludar(nombre):\n",
        "  print(f\"hola{nombre}como estas? \")\n",
        "  return None\n",
        "#procesar none\n",
        "\n",
        "def multiplicar(valor,veces):\n",
        "  if valor != None:\n",
        "    c = valor * veces\n",
        "  else:\n",
        "    c = \"operacion no valida\"\n",
        "  return c\n",
        "\n",
        "def operacion(a,b,c):\n",
        "  res = a + (b/c)\n",
        "  return res\n",
        "\n",
        "def comanda(primer,fuerte,postre=\"galleta de animalito\"):\n",
        "  print(f\"de entrada pidio {primer}\")\n",
        "  print(f\"de plato fuertye pidio {fuerte}\")\n",
        "  print(f\"de postre pidio {postre}\")\n",
        "\n",
        "def comanda_2 (*opciones):\n",
        "  print(opciones)\n",
        "  print(f\"de entrada pidio {opciones[0]}\")\n",
        "  print(f\"de plato fuertye pidio {opciones[1]}\")\n",
        "  print(f\"de postre pidio {opciones[2]}\")\n",
        "  print(\"Indicaciones extras:\")\n",
        "  for ind in opciones[3::]:\n",
        "    print(f\"{ind}\")\n",
        "\n",
        "\n",
        "\n",
        "print(sumar(10,15))\n",
        "saludar(\"adrian\")\n",
        "print(multiplicar(4,4))\n",
        "print(operacion(2,9,3))\n",
        "print(operacion(a=2,c=9,b=3))\n",
        "comanda(\"sopa\",\"enchiladas\")\n",
        "comanda_2(\"enchiladas\",\"sopa\",\"fresas\",\"chocolate\",\"tacos\")"
      ],
      "execution_count": 34,
      "outputs": [
        {
          "output_type": "stream",
          "text": [
            "25\n",
            "holaadriancomo estas? \n",
            "16\n",
            "5.0\n",
            "2.3333333333333335\n",
            "de entrada pidio sopa\n",
            "de plato fuertye pidio enchiladas\n",
            "de postre pidio galleta de animalito\n",
            "('enchiladas', 'sopa', 'fresas', 'chocolate', 'tacos')\n",
            "de entrada pidio enchiladas\n",
            "de plato fuertye pidio sopa\n",
            "de postre pidio fresas\n",
            "Indicaciones extras:\n",
            "chocolate\n",
            "tacos\n"
          ],
          "name": "stdout"
        }
      ]
    },
    {
      "cell_type": "code",
      "metadata": {
        "id": "Ae_rc_IMCOjZ",
        "outputId": "adb6a042-9a48-4ba1-b6ab-3c9842772119",
        "colab": {
          "base_uri": "https://localhost:8080/",
          "height": 119
        }
      },
      "source": [
        "def comanda_3(**opciones):\n",
        "  print(opciones)\n",
        "  for op in opciones.items():\n",
        "    print(f\"{op[0]} -> {op[1]}\")\n",
        "  \n",
        "comanda_3(primer =\"enchiladas\",fuerte = \"sopa\",postre= \"fresas\",extra1=\"chocolate\",extra2=\"tacos\")\n"
      ],
      "execution_count": 44,
      "outputs": [
        {
          "output_type": "stream",
          "text": [
            "{'primer': 'enchiladas', 'fuerte': 'sopa', 'postre': 'fresas', 'extra1': 'chocolate', 'extra2': 'tacos'}\n",
            "primer -> enchiladas\n",
            "fuerte -> sopa\n",
            "postre -> fresas\n",
            "extra1 -> chocolate\n",
            "extra2 -> tacos\n"
          ],
          "name": "stdout"
        }
      ]
    }
  ]
}