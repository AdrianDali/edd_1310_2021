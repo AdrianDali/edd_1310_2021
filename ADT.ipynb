{
  "nbformat": 4,
  "nbformat_minor": 0,
  "metadata": {
    "colab": {
      "name": "ADT.ipynb",
      "provenance": [],
      "collapsed_sections": [],
      "authorship_tag": "ABX9TyMGOvGClc/Djekdmr4TbaKX",
      "include_colab_link": true
    },
    "kernelspec": {
      "name": "python3",
      "display_name": "Python 3"
    }
  },
  "cells": [
    {
      "cell_type": "markdown",
      "metadata": {
        "id": "view-in-github",
        "colab_type": "text"
      },
      "source": [
        "<a href=\"https://colab.research.google.com/github/AdrianDali/edd_1310_2021/blob/master/ADT.ipynb\" target=\"_parent\"><img src=\"https://colab.research.google.com/assets/colab-badge.svg\" alt=\"Open In Colab\"/></a>"
      ]
    },
    {
      "cell_type": "markdown",
      "metadata": {
        "id": "hmdhLdb962LS"
      },
      "source": [
        ""
      ]
    },
    {
      "cell_type": "code",
      "metadata": {
        "id": "eCawDF6vstWX",
        "outputId": "5d470ea6-eeb7-4709-f93f-d4887e11c7b5",
        "colab": {
          "base_uri": "https://localhost:8080/"
        }
      },
      "source": [
        "\n",
        "def llenar_vector(vector):\n",
        "    vector.append(resultado_fila[6])\n",
        "        \n",
        "\n",
        "def prestacion():\n",
        "    prestaciones = 3 *(2020 -float(resultado_fila[6]))\n",
        "    print(f\"Su prestacion es del {prestaciones}%\")\n",
        "\n",
        "\n",
        "def sueldo(i):\n",
        "    sueldo_extra = float(i) \n",
        "    sueldo_total = sueldo_extra + float(resultado_fila[5]) \n",
        "    print(f\"su sueldo total es: {sueldo_total} pesos\") \n",
        "\n",
        "def extra():\n",
        "    i = resultado_fila[4]\n",
        "    j = float(i)  * 276.5\n",
        "    sueldo(j)\n",
        "\n",
        "def nombre():\n",
        "    print(resultado_fila[1]+\" \"+ resultado_fila[2]+ \" \"+ resultado_fila[3])  \n",
        "\n",
        "\n",
        "    \n",
        "        \n",
        "\n",
        "archivo = open(\"junio.txt\",\"r+\")\n",
        "leer_linea = archivo.readline()\n",
        "vector = []\n",
        "for i in range (14):\n",
        "    leer_linea = archivo.readline()  \n",
        "    resultado_fila = [x.strip() for x in leer_linea.split(',')]\n",
        "    nombre()\n",
        "    extra()\n",
        "    prestacion()\n",
        "    llenar_vector(vector)\n",
        "    #auxiliar = auxiliar +1\n",
        "    \n",
        "a = 0\n",
        "b = len(vector)\n",
        "while (a < b):\n",
        "    aux2 = a +1\n",
        "    while (aux2 < b):\n",
        "        if (vector[a]< vector[aux2]):\n",
        "            vector[a],vector[aux2] = vector[aux2], vector[a]\n",
        "        aux2 = aux2 + 1\n",
        "    a = a + 1\n",
        "    \n",
        "print(vector) \n"
      ],
      "execution_count": null,
      "outputs": [
        {
          "output_type": "stream",
          "text": [
            "CARLOS PEREZ CASTILLO\n",
            "su sueldo total es: 9850.0 pesos\n",
            "Su prestacion es del 9.0%\n",
            "ANGEL GOMEZ GARRIDO\n",
            "su sueldo total es: 10126.5 pesos\n",
            "Su prestacion es del 0.0%\n",
            "JESUS MARTIN SANTOS\n",
            "su sueldo total es: 10403.0 pesos\n",
            "Su prestacion es del 12.0%\n",
            "DAVID JIMENEZ LOZANO\n",
            "su sueldo total es: 10403.0 pesos\n",
            "Su prestacion es del 9.0%\n",
            "PEDRO RUIZ GUERRERO\n",
            "su sueldo total es: 10403.0 pesos\n",
            "Su prestacion es del 9.0%\n",
            "DANIEL HERNANDEZ CANO\n",
            "su sueldo total es: 10679.5 pesos\n",
            "Su prestacion es del 6.0%\n",
            "ALEJANDRO DIAZ PRIETO\n",
            "su sueldo total es: 10403.0 pesos\n",
            "Su prestacion es del 6.0%\n",
            "MARIA MORENO MENDEZ\n",
            "su sueldo total es: 10126.5 pesos\n",
            "Su prestacion es del 6.0%\n",
            "ALBERTO MU„OZ CRUZ\n",
            "su sueldo total es: 10126.5 pesos\n",
            "Su prestacion es del 9.0%\n",
            "RAFAEL ALVAREZ FLORES\n",
            "su sueldo total es: 10403.0 pesos\n",
            "Su prestacion es del 9.0%\n",
            "FERNANDO ROMERO HERRERA\n",
            "su sueldo total es: 10956.0 pesos\n",
            "Su prestacion es del 3.0%\n",
            "PABLO ALONSO GALLEGO\n",
            "su sueldo total es: 10126.5 pesos\n",
            "Su prestacion es del 3.0%\n",
            "JORGE GUTIERREZ MARQUEZ\n",
            "su sueldo total es: 10403.0 pesos\n",
            "Su prestacion es del 0.0%\n",
            "RAMON NAVARRO LEON\n",
            "su sueldo total es: 10126.5 pesos\n",
            "Su prestacion es del 12.0%\n",
            "['2020', '2020', '2019', '2019', '2018', '2018', '2018', '2017', '2017', '2017', '2017', '2017', '2016', '2016']\n"
          ],
          "name": "stdout"
        }
      ]
    },
    {
      "cell_type": "code",
      "metadata": {
        "id": "jr1PSdlmlut2"
      },
      "source": [
        ""
      ],
      "execution_count": null,
      "outputs": []
    }
  ]
}