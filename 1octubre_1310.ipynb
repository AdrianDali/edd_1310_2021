{
  "nbformat": 4,
  "nbformat_minor": 0,
  "metadata": {
    "colab": {
      "name": "1octubre_1310.ipynb",
      "provenance": [],
      "authorship_tag": "ABX9TyPqsY+6UXGe37VP/DhguHdY",
      "include_colab_link": true
    },
    "kernelspec": {
      "name": "python3",
      "display_name": "Python 3"
    }
  },
  "cells": [
    {
      "cell_type": "markdown",
      "metadata": {
        "id": "view-in-github",
        "colab_type": "text"
      },
      "source": [
        "<a href=\"https://colab.research.google.com/github/AdrianDali/edd_1310_2021/blob/master/1octubre_1310.ipynb\" target=\"_parent\"><img src=\"https://colab.research.google.com/assets/colab-badge.svg\" alt=\"Open In Colab\"/></a>"
      ]
    },
    {
      "cell_type": "markdown",
      "metadata": {
        "id": "OMnjXGAP8DEJ"
      },
      "source": [
        "#Intro Python \n",
        "###variables\n",
        "tipo dinamico\n",
        "\n",
        "\n"
      ]
    },
    {
      "cell_type": "code",
      "metadata": {
        "id": "DXaNqaDt7mxu",
        "outputId": "c3238c4c-3c93-45b5-fd5a-15e3e4610553",
        "colab": {
          "base_uri": "https://localhost:8080/",
          "height": 102
        }
      },
      "source": [
        "\n",
        "\n",
        "escuela = \"FES aragon\"\n",
        "nombre = 'adrian' \n",
        "print(escuela)\n",
        "edad = 13\n",
        "estatura = 1.67\n",
        "fumador = True\n",
        "frase = \"\"\"\n",
        "esta es una frase\n",
        "de multiples lienas\n",
        "\"\"\"\n",
        "print(frase)\n"
      ],
      "execution_count": 9,
      "outputs": [
        {
          "output_type": "stream",
          "text": [
            "FES aragon\n",
            "\n",
            "esta es una frase\n",
            "de multiples lienas\n",
            "\n"
          ],
          "name": "stdout"
        }
      ]
    },
    {
      "cell_type": "markdown",
      "metadata": {
        "id": "G2Oi3EJI95YD"
      },
      "source": [
        "#Print\n",
        "con comas ,\n",
        "con signo mas +\n",
        "con format()\n",
        "o con el operador f\n"
      ]
    },
    {
      "cell_type": "code",
      "metadata": {
        "id": "KLwhtAXA-EzB",
        "outputId": "17b27d4b-2a5c-4b2c-a70a-4db9648c5b35",
        "colab": {
          "base_uri": "https://localhost:8080/",
          "height": 68
        }
      },
      "source": [
        "#notas\n",
        "print(escuela,edad)\n",
        "print(escuela + str(edad))\n",
        "print(\"su nombre es\",nombre, \"y su edad es de \",edad,\"años\")\n",
        "print(\"su nombre es {0} y su edad es de {1} años\".format(nombre,edad))\n",
        "\n",
        "\n"
      ],
      "execution_count": 10,
      "outputs": [
        {
          "output_type": "stream",
          "text": [
            "FES aragon 13\n",
            "FES aragon13\n",
            "su nombre es adrian y su edad es de  13 años\n"
          ],
          "name": "stdout"
        }
      ]
    },
    {
      "cell_type": "markdown",
      "metadata": {
        "id": "D7vab25HBwMp"
      },
      "source": [
        "#con formato con el operador f"
      ]
    },
    {
      "cell_type": "code",
      "metadata": {
        "id": "resD2EzUB0qP"
      },
      "source": [
        "print(f\"su nombre es {nombre} y su eda es de{edad}\")"
      ],
      "execution_count": null,
      "outputs": []
    },
    {
      "cell_type": "markdown",
      "metadata": {
        "id": "j-kHRxARCRQf"
      },
      "source": [
        "#caracter de escape \n",
        "\\n salto de linea\n",
        "\\t tabulador \n",
        "\\a beeb\n",
        "\\* imprimir comilla doble\n"
      ]
    },
    {
      "cell_type": "code",
      "metadata": {
        "id": "PJzd1mOyDKmH",
        "outputId": "5d69a347-8393-41e5-b9eb-61a816bc6d28",
        "colab": {
          "base_uri": "https://localhost:8080/",
          "height": 51
        }
      },
      "source": [
        "\"\"\"\n",
        "esto es un comentario de multiple linea\n",
        "muchas lineas\n",
        "muchas\n",
        "\"\"\"\n",
        "print(f\"mi nombre es \\n {nombre}\")"
      ],
      "execution_count": 16,
      "outputs": [
        {
          "output_type": "stream",
          "text": [
            "mi nombre es \n",
            " adrian\n"
          ],
          "name": "stdout"
        }
      ]
    },
    {
      "cell_type": "markdown",
      "metadata": {
        "id": "hs3KDWkzDzgz"
      },
      "source": [
        "# ayuda de tipos de datos en python\n",
        "dir() help()\n",
        "help(print)\n",
        "\n"
      ]
    },
    {
      "cell_type": "code",
      "metadata": {
        "id": "WfkitF6cFeBI"
      },
      "source": [
        "print(nombre.capitalize())\n",
        "print(nombre.upper())\n",
        "print(nombre.title())\n",
        "help(str)"
      ],
      "execution_count": null,
      "outputs": []
    },
    {
      "cell_type": "markdown",
      "metadata": {
        "id": "dWqi1PpJGtmm"
      },
      "source": [
        "#clase String\n",
        "es manejada como un arreglo(c o java) o lista en python\n",
        "telefono = \"huawey mate 30 pro\"\n"
      ]
    },
    {
      "cell_type": "code",
      "metadata": {
        "id": "OXjdAkHnH1-K",
        "outputId": "fd8fea82-96cb-4fd1-ffb3-3e2f0e9fd876",
        "colab": {
          "base_uri": "https://localhost:8080/",
          "height": 34
        }
      },
      "source": [
        "telefono = \"huawey mate 30 pro\"\n",
        "print(telefono[5])"
      ],
      "execution_count": 17,
      "outputs": [
        {
          "output_type": "stream",
          "text": [
            "y\n"
          ],
          "name": "stdout"
        }
      ]
    },
    {
      "cell_type": "markdown",
      "metadata": {
        "id": "LHqbjl-DIfMZ"
      },
      "source": [
        "#Slicing(rebanado)\n",
        "[ini: stop.incremento]\n",
        "el stop no se incluye, termina en el valor anterior al stop"
      ]
    },
    {
      "cell_type": "code",
      "metadata": {
        "id": "Wmz0JltyInzG",
        "outputId": "e351e3c2-0909-48fe-83a9-e9634039c936",
        "colab": {
          "base_uri": "https://localhost:8080/",
          "height": 102
        }
      },
      "source": [
        "print(telefono[7:11:1]) \n",
        "#el inicio y el incremetno son opcionales\n",
        "print(telefono[:11:])\n",
        "#el valor por defecto de stop es len(str) el largo de la cadena\n",
        "print(telefono[::])\n",
        "#incremento negativo\n",
        "print(telefono[::-1])   \n",
        "#\n",
        "print(telefono[-3::1])\n"
      ],
      "execution_count": 25,
      "outputs": [
        {
          "output_type": "stream",
          "text": [
            "mate\n",
            "huawey mate\n",
            "huawey mate 30 pro\n",
            "orp 03 etam yewauh\n",
            "pro\n"
          ],
          "name": "stdout"
        }
      ]
    },
    {
      "cell_type": "markdown",
      "metadata": {
        "id": "N2pr5UY6NP_0"
      },
      "source": [
        "#metodos String(str)\n",
        "\n",
        "###existen metodos muy utilez en esta clase"
      ]
    },
    {
      "cell_type": "code",
      "metadata": {
        "id": "bZ0VwkXlNhdW",
        "outputId": "d35fb89e-1464-44d0-819b-4df5c887c1c9",
        "colab": {
          "base_uri": "https://localhost:8080/",
          "height": 187
        }
      },
      "source": [
        "facultad=(\"      facultad de estudios superiores aragon      \")\n",
        "print(facultad)\n",
        "print(facultad.count(\"f\"))\n",
        "print(facultad.find(\"s\")) #encuentra la letra\n",
        "print(facultad.strip())\n",
        "print(facultad.split(\"t\"))\n",
        "print(facultad.strip().split())\n",
        "#copiar cadenas\n",
        "print(\"----------------------------------\")\n",
        "otra_cadena = facultad\n",
        "print(otra_cadena)\n",
        "#copiar listas\n",
        "print(\"------------------------------------------------\")\n",
        "colores = [\"rojo\", \"verde\"]\n",
        "otra = colores.copy\n",
        "print(colores)"
      ],
      "execution_count": 46,
      "outputs": [
        {
          "output_type": "stream",
          "text": [
            "      facultad de estudios superiores aragon      \n",
            "1\n",
            "19\n",
            "facultad de estudios superiores aragon\n",
            "['      facul', 'ad de es', 'udios superiores aragon      ']\n",
            "['facultad', 'de', 'estudios', 'superiores', 'aragon']\n",
            "----------------------------------\n",
            "      facultad de estudios superiores aragon      \n",
            "------------------------------------------------\n",
            "['rojo', 'verde']\n"
          ],
          "name": "stdout"
        }
      ]
    }
  ]
}