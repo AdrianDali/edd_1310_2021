{
  "nbformat": 4,
  "nbformat_minor": 0,
  "metadata": {
    "colab": {
      "name": "Clases.ipynb",
      "provenance": [],
      "collapsed_sections": [],
      "authorship_tag": "ABX9TyON2LUOB30wnMcZ3HdNs+uZ",
      "include_colab_link": true
    },
    "kernelspec": {
      "name": "python3",
      "display_name": "Python 3"
    }
  },
  "cells": [
    {
      "cell_type": "markdown",
      "metadata": {
        "id": "view-in-github",
        "colab_type": "text"
      },
      "source": [
        "<a href=\"https://colab.research.google.com/github/AdrianDali/edd_1310_2021/blob/master/Clases.ipynb\" target=\"_parent\"><img src=\"https://colab.research.google.com/assets/colab-badge.svg\" alt=\"Open In Colab\"/></a>"
      ]
    },
    {
      "cell_type": "code",
      "metadata": {
        "id": "M5ehc0PQOOiL",
        "outputId": "193cc3d1-db46-475b-a4d5-0b327e4dab1f",
        "colab": {
          "base_uri": "https://localhost:8080/",
          "height": 51
        }
      },
      "source": [
        "class Persona:\n",
        "  def __init__(self,nombre,edad,estatura):\n",
        "    self.__nombre = nombre\n",
        "    self.__edad = edad \n",
        "    self.__estatura = estatura\n",
        "  \n",
        "  def dormir(self):\n",
        "    return self.__nombre + \"  se quedo dormido, vuelva mas tarde\"\n",
        "\n",
        "  def comer(self):\n",
        "    return self.__nombre +\"tiene que comer\"\n",
        "\n",
        "persona = Persona(\"adrian\",\"18\",\"1.75\")\n",
        "print(persona.dormir())\n",
        "print(persona.comer())"
      ],
      "execution_count": null,
      "outputs": [
        {
          "output_type": "stream",
          "text": [
            "adrian  se quedo dormido, vuelva mas tarde\n",
            "adriantiene que comer\n"
          ],
          "name": "stdout"
        }
      ]
    },
    {
      "cell_type": "code",
      "metadata": {
        "id": "ZKfJjrevSSOR",
        "outputId": "2df6bca9-f124-4222-c89c-466d16a3007c",
        "colab": {
          "base_uri": "https://localhost:8080/",
          "height": 34
        }
      },
      "source": [
        "class Celular:\n",
        "  def __init__(self,marca,modelo,memoria):\n",
        "    self.__marca = marca\n",
        "    self.__modelo = modelo\n",
        "    self.__memoria = memoria\n",
        "\n",
        "  def llamar(self):\n",
        "    return \"llamando al celular\" + self.__marca\n",
        "\n",
        "  def alarma(self):\n",
        "    return \"se ha puesto una alarma \"\n",
        "\n",
        "celular = Celular(\"Aplee\",\"iphone x\",\"64 gb\")\n",
        "print(celular.alarma())\n",
        "\n",
        "\n",
        "\n"
      ],
      "execution_count": null,
      "outputs": [
        {
          "output_type": "stream",
          "text": [
            "se ha puesto una alarma \n"
          ],
          "name": "stdout"
        }
      ]
    }
  ]
}