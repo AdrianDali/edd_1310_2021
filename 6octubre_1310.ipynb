{
  "nbformat": 4,
  "nbformat_minor": 0,
  "metadata": {
    "colab": {
      "name": "6octubre-1310.ipynb",
      "provenance": [],
      "collapsed_sections": [],
      "authorship_tag": "ABX9TyOBRVUYTt4gFf78Ug6ww/dI",
      "include_colab_link": true
    },
    "kernelspec": {
      "name": "python3",
      "display_name": "Python 3"
    }
  },
  "cells": [
    {
      "cell_type": "markdown",
      "metadata": {
        "id": "view-in-github",
        "colab_type": "text"
      },
      "source": [
        "<a href=\"https://colab.research.google.com/github/AdrianDali/edd_1310_2021/blob/master/6octubre_1310.ipynb\" target=\"_parent\"><img src=\"https://colab.research.google.com/assets/colab-badge.svg\" alt=\"Open In Colab\"/></a>"
      ]
    },
    {
      "cell_type": "code",
      "metadata": {
        "id": "8jkQ-h_Bstoq",
        "outputId": "8e6d930d-9ac6-43d0-e5b0-7d835e0b9095",
        "colab": {
          "base_uri": "https://localhost:8080/",
          "height": 51
        }
      },
      "source": [
        "colores = ['rojo','azul','morado','verde','amarillo','rosa']\n",
        "#solo mostrar ciertas partes de las palabras\n",
        "print(colores[2][2:4]) # si no pones incremento por de\n",
        "print(colores[0:3:1]) \n",
        "\n"
      ],
      "execution_count": null,
      "outputs": [
        {
          "output_type": "stream",
          "text": [
            "ra\n",
            "['rojo', 'azul', 'morado']\n"
          ],
          "name": "stdout"
        }
      ]
    },
    {
      "cell_type": "code",
      "metadata": {
        "id": "xWJh90HCzJ6e",
        "outputId": "1942ec20-3f0f-4847-fe06-202bf4e42705",
        "colab": {
          "base_uri": "https://localhost:8080/",
          "height": 34
        }
      },
      "source": [
        "nombre = ['alberto']\n",
        "for j in range (0,len(nombre),1):\n",
        "  print(nombre[j])"
      ],
      "execution_count": null,
      "outputs": [
        {
          "output_type": "stream",
          "text": [
            "alberto\n"
          ],
          "name": "stdout"
        }
      ]
    },
    {
      "cell_type": "markdown",
      "metadata": {
        "id": "YNdaK9sszLOm"
      },
      "source": [
        ""
      ]
    },
    {
      "cell_type": "code",
      "metadata": {
        "id": "TcaJM84LqozK"
      },
      "source": [
        "#String continuacion\n",
        "\n",
        "frase = \"si funciona.. !no loc ompongas¡\"\n",
        "numero_txt =\"   1,2,3,4  ,5, 35,  15,  12\"\n",
        "print(numero_txt)\n",
        "numero_txt = numero_txt.lstrip().split(',')\n",
        "print(numeros_txt)\n",
        "\n",
        "for j in range(len(numeros_txt)):\n",
        "    numero_txt[j] = int(numero_txt[j].strip())\n",
        "\n",
        "print(numero_txt)\n",
        "\n",
        "#funcion range \n",
        "#range(inicio,stop,incrmento)\n",
        "print(range(1,10,3))\n",
        "rango = range(1,10,2)\n",
        "for x in rango:\n",
        "  print(x)"
      ],
      "execution_count": null,
      "outputs": []
    },
    {
      "cell_type": "markdown",
      "metadata": {
        "id": "CGiJDZpuxEmu"
      },
      "source": [
        "# listas\n",
        "-mutables\n",
        "-se declaran con corchetes cuadrados\n",
        "-selector [int ]\n",
        "-pueden ser de cualquier tipo y mezclado\n",
        "\n",
        "#tuplas\n",
        "-no mutables\n",
        "-se declaran con ()\n",
        "-el selector es de igual que en las listas\n",
        "#diccionarios\n",
        "-conjunto de pares llave:valor\n",
        "-son mutables\n",
        "-equivalentes a los objetos json de javaScript\n",
        "#conjuntos\n",
        "-representacion de la teoria de conjuntos"
      ]
    },
    {
      "cell_type": "code",
      "metadata": {
        "id": "ljZkvQvjx_Uh",
        "outputId": "b5d04f2d-7a4b-4e6f-8bb9-afe80295d930",
        "colab": {
          "base_uri": "https://localhost:8080/",
          "height": 136
        }
      },
      "source": [
        "#listas\n",
        "frutas = [\"pera\", \"manzana\",\"frresa\",\"kiwi\",\"naranja\"]\n",
        "print (frutas)\n",
        "cosas = [\"cuaderno\",2,3,4,44.44,True,False,[\"rojoi\", \"azul\"]]\n",
        "print(cosas)\n",
        "frutas[2] = \"fresa\"#fruta[2] = frutas[2].capitalize()\n",
        "print(frutas)\n",
        "#agregar lista\n",
        "#APEND E INSER SE OCUPARA MUCHISIMO\n",
        "frutas.append(\"aguacate\")\n",
        "print(frutas)\n",
        "frutas.insert(2,\"sandia\")\n",
        "print(frutas)\n",
        "\n",
        "#concatenar listas\n",
        "fecha = [\"06\",\"10\",\"2020\"]\n",
        "print(fecha)\n",
        "fecha_str = \"/\".join(fecha)\n",
        "print(fecha_str)\n",
        "\n"
      ],
      "execution_count": 23,
      "outputs": [
        {
          "output_type": "stream",
          "text": [
            "['pera', 'manzana', 'frresa', 'kiwi', 'naranja']\n",
            "['cuaderno', 2, 3, 4, 44.44, True, False, ['rojoi', 'azul']]\n",
            "['pera', 'manzana', 'fresa', 'kiwi', 'naranja']\n",
            "['pera', 'manzana', 'fresa', 'kiwi', 'naranja', 'aguacate']\n",
            "['pera', 'manzana', 'sandia', 'fresa', 'kiwi', 'naranja', 'aguacate']\n",
            "['06', '10', '2020']\n",
            "06/10/2020\n"
          ],
          "name": "stdout"
        }
      ]
    },
    {
      "cell_type": "code",
      "metadata": {
        "id": "BraAQkRZ3Qvb",
        "outputId": "949b3fb7-844f-4de3-d994-1989d76b6a9c",
        "colab": {
          "base_uri": "https://localhost:8080/",
          "height": 102
        }
      },
      "source": [
        "#eliminar elementos\n",
        "cosas = [\"cuaderno\",2,3,4,44.44,True,False,[\"rojoi\", \"azul\"]]\n",
        "print(cosas)\n",
        "cosas.append(\"libro\")\n",
        "cosas.append(\"lapiz\")\n",
        "print(cosas)\n",
        "algo = cosas.pop()\n",
        "print(cosas)\n",
        "algo = cosas.pop(2)\n",
        "print(cosas)\n",
        "#vaciar lista\n",
        "cosas.clear()\n",
        "print(cosas)\n",
        "\n"
      ],
      "execution_count": 27,
      "outputs": [
        {
          "output_type": "stream",
          "text": [
            "['cuaderno', 2, 3, 4, 44.44, True, False, ['rojoi', 'azul']]\n",
            "['cuaderno', 2, 3, 4, 44.44, True, False, ['rojoi', 'azul'], 'libro', 'lapiz']\n",
            "['cuaderno', 2, 3, 4, 44.44, True, False, ['rojoi', 'azul'], 'libro']\n",
            "['cuaderno', 2, 4, 44.44, True, False, ['rojoi', 'azul'], 'libro']\n",
            "[]\n"
          ],
          "name": "stdout"
        }
      ]
    },
    {
      "cell_type": "code",
      "metadata": {
        "id": "8qnL4hZ07IdI",
        "outputId": "b9faefe3-72f4-4153-f77e-9b0bd1407ef5",
        "colab": {
          "base_uri": "https://localhost:8080/",
          "height": 119
        }
      },
      "source": [
        "#slicing\n",
        "cosas = [\"cuaderno\",2,3,4,44.44,True,False,[\"rojoi\", \"azul\"]]\n",
        "print(cosas[5:7:1])\n",
        "print(cosas[0][3:5:1]) #para imprimir solo las letras que se van a usar\n",
        "\n",
        "numeros = [1,2,3,4,5,6,7,8,9,10,11,12,13,14,15]\n",
        "print(numeros)\n",
        "print(numeros[7:12:1])\n",
        "#sustituir rebanadas -2,2 -> {0,1,2,3,4,5,6,7,8,9,}\n",
        "numeros[7:13:1] = [-2,2] #para añadir\n",
        "print(numeros)\n",
        "\n",
        "#preguntar por existencia\n",
        "print(-2 in numeros)#esta preguntando si hay un menos 2 en numeros\n"
      ],
      "execution_count": 38,
      "outputs": [
        {
          "output_type": "stream",
          "text": [
            "[True, False]\n",
            "de\n",
            "[1, 2, 3, 4, 5, 6, 7, 8, 9, 10, 11, 12, 13, 14, 15]\n",
            "[8, 9, 10, 11, 12]\n",
            "[1, 2, 3, 4, 5, 6, 7, -2, 2, 14, 15]\n",
            "True\n"
          ],
          "name": "stdout"
        }
      ]
    },
    {
      "cell_type": "markdown",
      "metadata": {
        "id": "6tysF59Y-i5x"
      },
      "source": [
        "#listas multidimension\n",
        "-listas dentro de listas"
      ]
    },
    {
      "cell_type": "code",
      "metadata": {
        "id": "h2tTZZug-qnO",
        "outputId": "ebadaae5-c0a2-49e9-c47e-9e538540c570",
        "colab": {
          "base_uri": "https://localhost:8080/",
          "height": 207
        }
      },
      "source": [
        "computadoras = [\"HP\",\"Mac book Pro 17\",\"Mate Book\",\"Lenovo legion\"]\n",
        "oss = [\"Windows 10\",\"Linux\",\"Andorid\",\"IOS\"]\n",
        "\n",
        "computo = [computadoras,oss]\n",
        "print(computo[0])\n",
        "print(computo[1])\n",
        "print(computo[0][2])\n",
        "print(computo[0][2][0:5])\n",
        "print(computo[0][3][5::-1])\n",
        "print(computo[0][3][-8::-1])\n",
        "print(\"Linux\" in oss)\n",
        "dbms = [[\"Mysql\",\"Open Source\",[False]],[\"MS SQL Server\",\"de paga\",True]]\n",
        "computo.append(dbms)\n",
        "print(computo)\n",
        "print(computo[2][0][0])\n",
        "print(computo[2][1][1])\n",
        "\n"
      ],
      "execution_count": 64,
      "outputs": [
        {
          "output_type": "stream",
          "text": [
            "['HP', 'Mac book Pro 17', 'Mate Book', 'Lenovo legion']\n",
            "['Windows 10', 'Linux', 'Andorid', 'IOS']\n",
            "Mate Book\n",
            "Mate \n",
            "ovoneL\n",
            "ovoneL\n",
            "True\n",
            "[['HP', 'Mac book Pro 17', 'Mate Book', 'Lenovo legion'], ['Windows 10', 'Linux', 'Andorid', 'IOS'], [['Mysql', 'Open Source', [False]], ['MS SQL Server', 'de paga', True]]]\n",
            "Mysql\n",
            "de paga\n"
          ],
          "name": "stdout"
        }
      ]
    },
    {
      "cell_type": "code",
      "metadata": {
        "id": "IT2U8cR19lhU"
      },
      "source": [
        ""
      ],
      "execution_count": null,
      "outputs": []
    }
  ]
}