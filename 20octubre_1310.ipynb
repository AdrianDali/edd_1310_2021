{
  "nbformat": 4,
  "nbformat_minor": 0,
  "metadata": {
    "colab": {
      "name": "20octubre_1310.ipynb",
      "provenance": [],
      "collapsed_sections": [],
      "authorship_tag": "ABX9TyOyBGSC2puTi/R2QwZUMeKu",
      "include_colab_link": true
    },
    "kernelspec": {
      "name": "python3",
      "display_name": "Python 3"
    }
  },
  "cells": [
    {
      "cell_type": "markdown",
      "metadata": {
        "id": "view-in-github",
        "colab_type": "text"
      },
      "source": [
        "<a href=\"https://colab.research.google.com/github/AdrianDali/edd_1310_2021/blob/master/20octubre_1310.ipynb\" target=\"_parent\"><img src=\"https://colab.research.google.com/assets/colab-badge.svg\" alt=\"Open In Colab\"/></a>"
      ]
    },
    {
      "cell_type": "code",
      "metadata": {
        "id": "fSMlJeG9wCjs",
        "outputId": "21ee5cbd-50a7-4958-d6d0-35096bf51d0b",
        "colab": {
          "base_uri": "https://localhost:8080/",
          "height": 272
        }
      },
      "source": [
        "archivo = open(\"numeros.txt\", \"r+\")\n",
        "for linea in archivo.readlines():\n",
        "  for trunc in linea.split(','):\n",
        "    print(int(trunc.strip()))\n"
      ],
      "execution_count": 3,
      "outputs": [
        {
          "output_type": "stream",
          "text": [
            "23\n",
            "23\n",
            "44\n",
            "55\n",
            "5\n",
            "44\n",
            "4\n",
            "5\n",
            "7\n",
            "7\n",
            "6\n",
            "5\n",
            "4\n",
            "2\n",
            "1\n"
          ],
          "name": "stdout"
        }
      ]
    },
    {
      "cell_type": "markdown",
      "metadata": {
        "id": "4_rffGh52l-w"
      },
      "source": [
        "# sintaxis del for en python\n",
        "1. range: regresa un iterador\n",
        "1. in iterator \n"
      ]
    },
    {
      "cell_type": "code",
      "metadata": {
        "id": "NmH9RuSo21L4",
        "outputId": "67df597a-0426-4135-a31c-87d4f48a8d83",
        "colab": {
          "base_uri": "https://localhost:8080/",
          "height": 238
        }
      },
      "source": [
        "r = range(0,10,2)\n",
        "for x in r: \n",
        "  print(x)\n",
        "\n",
        "colores = ['rojo', 'rosa', 'azul','fiusca']\n",
        "\n",
        "for indice in range(0,len(colores),1): # for (indice = 0;indice <= 4; indice ++)\n",
        "  print(colores[indice])\n",
        "\n",
        "# for sobre un iterador\n",
        "\n",
        "for col in colores:  \n",
        "  print(col)"
      ],
      "execution_count": 9,
      "outputs": [
        {
          "output_type": "stream",
          "text": [
            "0\n",
            "2\n",
            "4\n",
            "6\n",
            "8\n",
            "rojo\n",
            "rosa\n",
            "azul\n",
            "fiusca\n",
            "rojo\n",
            "rosa\n",
            "azul\n",
            "fiusca\n"
          ],
          "name": "stdout"
        }
      ]
    },
    {
      "cell_type": "markdown",
      "metadata": {
        "id": "wclqHU-d79RL"
      },
      "source": [
        "#generadores\n",
        "\n",
        "[valor for x in range() ]\n",
        "\n",
        "[[0,0,0,],\n",
        "[0,0,0],\n",
        "[0,0,0]]\n",
        "\n",
        "3x3"
      ]
    },
    {
      "cell_type": "code",
      "metadata": {
        "id": "iAd0Pyby8dr-",
        "outputId": "f248d818-787b-4401-f129-2027e0dd8328",
        "colab": {
          "base_uri": "https://localhost:8080/",
          "height": 34
        }
      },
      "source": [
        "lista = [x for x in colores]\n",
        "print(lista)\n",
        "\n"
      ],
      "execution_count": 15,
      "outputs": [
        {
          "output_type": "stream",
          "text": [
            "['rojo', 'rosa', 'azul', 'fiusca']\n"
          ],
          "name": "stdout"
        }
      ]
    },
    {
      "cell_type": "code",
      "metadata": {
        "id": "zHOHsF4n97PV",
        "outputId": "b7493ff6-c477-44f9-8a95-52f181e77c7e",
        "colab": {
          "base_uri": "https://localhost:8080/",
          "height": 34
        }
      },
      "source": [
        "ren = 3\n",
        "col = 3\n",
        "lista = [[0 for x in range(col)] for z in range(ren)]\n",
        "print(lista)"
      ],
      "execution_count": 20,
      "outputs": [
        {
          "output_type": "stream",
          "text": [
            "[[0, 0, 0], [0, 0, 0], [0, 0, 0]]\n"
          ],
          "name": "stdout"
        }
      ]
    },
    {
      "cell_type": "markdown",
      "metadata": {
        "id": "xl4noGGw_GpI"
      },
      "source": [
        "# POO en python\n",
        "- clase\n",
        "- creacion de objetos\n",
        "-constructor\n",
        "-encapsulamiento\n",
        "-metodos\n",
        "-atributos\n",
        "-herencia\n"
      ]
    },
    {
      "cell_type": "code",
      "metadata": {
        "id": "Zno5fBpp_eto",
        "outputId": "4da8997d-61e6-4a01-ae5c-7d6bcd7c1ae5",
        "colab": {
          "base_uri": "https://localhost:8080/",
          "height": 34
        }
      },
      "source": [
        "class Computadora:\n",
        "  def __init__(self,m,p): # es un mecanismo para ajustar el mecanismo \n",
        "    self.__marca = m\n",
        "    self.__procesador = p\n",
        "    \n",
        "\n",
        "  def to_string(self):\n",
        "    return \"marca:\" + self.__marca+ \"procesador. \"+self.__procesador\n",
        "\n",
        "mi_pc = Computadora(\"tosgiba\",\" intel i7\")\n",
        "mi_pc.__marca = \"HP\"\n",
        "print(mi_pc.to_string())\n",
        "\n",
        "\n"
      ],
      "execution_count": 30,
      "outputs": [
        {
          "output_type": "stream",
          "text": [
            "marca:tosgibaprocesador.  intel i7\n"
          ],
          "name": "stdout"
        }
      ]
    }
  ]
}