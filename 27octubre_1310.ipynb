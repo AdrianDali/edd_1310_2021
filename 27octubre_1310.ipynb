{
  "nbformat": 4,
  "nbformat_minor": 0,
  "metadata": {
    "colab": {
      "name": "27octubre_1310.ipynb",
      "provenance": [],
      "collapsed_sections": [],
      "authorship_tag": "ABX9TyMhVH+Fm4sP1b/x2o+Ew4Cj",
      "include_colab_link": true
    },
    "kernelspec": {
      "name": "python3",
      "display_name": "Python 3"
    }
  },
  "cells": [
    {
      "cell_type": "markdown",
      "metadata": {
        "id": "view-in-github",
        "colab_type": "text"
      },
      "source": [
        "<a href=\"https://colab.research.google.com/github/AdrianDali/edd_1310_2021/blob/master/27octubre_1310.ipynb\" target=\"_parent\"><img src=\"https://colab.research.google.com/assets/colab-badge.svg\" alt=\"Open In Colab\"/></a>"
      ]
    },
    {
      "cell_type": "code",
      "metadata": {
        "id": "M1MMEJZvCDAi",
        "outputId": "e18be08c-edb4-4bee-90bd-75c1836e8d91",
        "colab": {
          "base_uri": "https://localhost:8080/",
          "height": 68
        }
      },
      "source": [
        "class Computadora:\n",
        "    def __init__( self , m , p):\n",
        "        self.__marca = m\n",
        "        self.__procesador = p\n",
        "\n",
        "    def to_string( self ):\n",
        "        return \"MArca:\"+self.__marca+\" Procesador:\"+self.__procesador\n",
        "    def set_marca(self, m):\n",
        "        self.__marca = 3\n",
        "    def get_marca(self):\n",
        "        self.__marca\n",
        "    def set_procesador(self,p):\n",
        "        self.__procesador = p\n",
        "    def get_procesador(self):\n",
        "        return self.__procesador\n",
        "\n",
        "mi_pc = Computadora(\"Toshiba\",\"Intel i7\")\n",
        "mi_pc.__marca=\"HP \"\n",
        "print(mi_pc.to_string())\n",
        "print(mi_pc.get_procesador())\n",
        "print(mi_pc.__marca)\n",
        "\n"
      ],
      "execution_count": 13,
      "outputs": [
        {
          "output_type": "stream",
          "text": [
            "MArca:Toshiba Procesador:Intel i7\n",
            "Intel i7\n",
            "HP \n"
          ],
          "name": "stdout"
        }
      ]
    },
    {
      "cell_type": "markdown",
      "metadata": {
        "id": "TYTl488vESYM"
      },
      "source": [
        "#encapsulamiento python 3\n",
        "##tradicional java\n",
        "  void setAtributo(val)\n",
        "  tipo getAtributo\n",
        "\n",
        "#estilo python\n",
        "@property\n",
        "@atributo.setter\n"
      ]
    },
    {
      "cell_type": "code",
      "metadata": {
        "id": "vSjzfHQCHy9N",
        "outputId": "f1f775b0-3a5f-4602-efc2-ef339ce703d3",
        "colab": {
          "base_uri": "https://localhost:8080/",
          "height": 68
        }
      },
      "source": [
        "class Computadora:\n",
        "\n",
        "    def __init__(self, m, p):\n",
        "         self.marca = m # se manda a llamar el decorador @property\n",
        "         self.procesador = p #idem\n",
        "\n",
        "    @property\n",
        "    def marca(self):\n",
        "         return self.__marca\n",
        "\n",
        "    @marca.setter\n",
        "    def marca(self,m):\n",
        "        self.__marca = m\n",
        "\n",
        "    @property\n",
        "    def procesador(self):\n",
        "        return self.__procesador\n",
        "\n",
        "    @procesador.setter\n",
        "    def procesador(self,p):\n",
        "        print(\"el metodo set del procesador\")\n",
        "        self.__procesador = p \n",
        "\n",
        "\n",
        "    def to_string(self):\n",
        "        return \"marca: \" +self.marca + \"procesador\" + self.procesador\n",
        "\n",
        "\n",
        "mi_pc2 = Computadora(\"mac book pro \",\"intel\")\n",
        "print(mi_pc2.to_string())\n",
        "mi_pc2.marca = \"DELL\"\n",
        "print(mi_pc2.to_string())"
      ],
      "execution_count": 24,
      "outputs": [
        {
          "output_type": "stream",
          "text": [
            "el metodo set del procesador\n",
            "marca: mac book pro procesadorintel\n",
            "marca: DELLprocesadorintel\n"
          ],
          "name": "stdout"
        }
      ]
    },
    {
      "cell_type": "code",
      "metadata": {
        "id": "143lSREsQiJa",
        "outputId": "066028f3-34b5-4e7a-c996-a653ad5f461b",
        "colab": {
          "base_uri": "https://localhost:8080/",
          "height": 68
        }
      },
      "source": [
        "#herencia en python pasando la clase base a la declaracion \n",
        "class ServidorEmpresarial (Computadora):\n",
        "    def __init__(self):\n",
        "        print(\"hola servidor\")\n",
        "\n",
        "server = ServidorEmpresarial()\n",
        "server.marca = \"sum micro sistrem\"\n",
        "server.procesador = \"intel i 7\"\n",
        "print(server.to_string())        \n"
      ],
      "execution_count": 25,
      "outputs": [
        {
          "output_type": "stream",
          "text": [
            "hola servidor\n",
            "el metodo set del procesador\n",
            "marca: sum micro sistremprocesadorintel i 7\n"
          ],
          "name": "stdout"
        }
      ]
    }
  ]
}