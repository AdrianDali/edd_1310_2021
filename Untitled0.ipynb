{
  "nbformat": 4,
  "nbformat_minor": 0,
  "metadata": {
    "colab": {
      "name": "Untitled0.ipynb",
      "provenance": [],
      "authorship_tag": "ABX9TyNsA9+kG+slWdyrb4ORYTIs",
      "include_colab_link": true
    },
    "kernelspec": {
      "name": "python3",
      "display_name": "Python 3"
    }
  },
  "cells": [
    {
      "cell_type": "markdown",
      "metadata": {
        "id": "view-in-github",
        "colab_type": "text"
      },
      "source": [
        "<a href=\"https://colab.research.google.com/github/AdrianDali/edd_1310_2021/blob/master/Untitled0.ipynb\" target=\"_parent\"><img src=\"https://colab.research.google.com/assets/colab-badge.svg\" alt=\"Open In Colab\"/></a>"
      ]
    },
    {
      "cell_type": "code",
      "metadata": {
        "id": "8jkQ-h_Bstoq",
        "outputId": "8e6d930d-9ac6-43d0-e5b0-7d835e0b9095",
        "colab": {
          "base_uri": "https://localhost:8080/",
          "height": 51
        }
      },
      "source": [
        "colores = ['rojo','azul','morado','verde','amarillo','rosa']\n",
        "#solo mostrar ciertas partes de las palabras\n",
        "print(colores[2][2:4]) # si no pones incremento por de\n",
        "print(colores[0:3:1]) \n",
        "\n"
      ],
      "execution_count": 11,
      "outputs": [
        {
          "output_type": "stream",
          "text": [
            "ra\n",
            "['rojo', 'azul', 'morado']\n"
          ],
          "name": "stdout"
        }
      ]
    },
    {
      "cell_type": "code",
      "metadata": {
        "id": "xWJh90HCzJ6e",
        "outputId": "1942ec20-3f0f-4847-fe06-202bf4e42705",
        "colab": {
          "base_uri": "https://localhost:8080/",
          "height": 34
        }
      },
      "source": [
        "nombre = ['alberto']\n",
        "for j in range (0,len(nombre),1):\n",
        "  print(nombre[j])"
      ],
      "execution_count": 17,
      "outputs": [
        {
          "output_type": "stream",
          "text": [
            "alberto\n"
          ],
          "name": "stdout"
        }
      ]
    },
    {
      "cell_type": "markdown",
      "metadata": {
        "id": "YNdaK9sszLOm"
      },
      "source": [
        ""
      ]
    }
  ]
}